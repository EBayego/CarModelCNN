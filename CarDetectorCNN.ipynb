{
 "cells": [
  {
   "cell_type": "code",
   "execution_count": 1,
   "id": "e60631de-5200-42db-8048-e18cde1bf7bc",
   "metadata": {},
   "outputs": [],
   "source": [
    "import os\n",
    "import torch\n",
    "import torch.nn as nn\n",
    "import torch.optim as optim\n",
    "import torchvision\n",
    "from torchvision import transforms\n",
    "from torchvision.datasets import ImageFolder\n",
    "from torch.utils.data import DataLoader\n",
    "import torch.nn.functional as F\n",
    "from PIL import Image"
   ]
  },
  {
   "cell_type": "code",
   "execution_count": 2,
   "id": "5e247cc1-c33a-48d5-a717-1ee240444855",
   "metadata": {},
   "outputs": [],
   "source": [
    "transform = transforms.Compose([\n",
    "        transforms.Resize((128, 128)),\n",
    "        transforms.ToTensor(),\n",
    "])\n",
    "train_data = ImageFolder(root=\"./CarsDataset/train\", transform=transform)\n",
    "test_data = ImageFolder(root=\"./CarsDataset/test\", transform=transform)\n",
    "\n",
    "train_loader = DataLoader(train_data, batch_size=32, shuffle=True)\n",
    "test_loader = DataLoader(test_data, batch_size=32, shuffle=False)"
   ]
  },
  {
   "cell_type": "code",
   "execution_count": 3,
   "id": "444ef8ca-99ca-4e8f-a735-0ce9a1659a7f",
   "metadata": {},
   "outputs": [],
   "source": [
    "class CNN(nn.Module):\n",
    "    def __init__(self, num_classes, seed = 155):\n",
    "        super(CNN, self).__init__()\n",
    "        self.seed = torch.manual_seed(seed)\n",
    "        self.conv1 = nn.Conv2d(3, 32, kernel_size=8, stride=4)\n",
    "        self.bn1 = nn.BatchNorm2d(32)\n",
    "        self.conv2 = nn.Conv2d(32, 64, kernel_size=4, stride=2)\n",
    "        self.bn2 = nn.BatchNorm2d(64)\n",
    "        self.conv3 = nn.Conv2d(64, 64, kernel_size=3, stride=1)\n",
    "        self.bn3 = nn.BatchNorm2d(64)\n",
    "        self.conv4 = nn.Conv2d(64, 128, kernel_size=3, stride=1)\n",
    "        self.bn4 = nn.BatchNorm2d(128)\n",
    "    \n",
    "        self.fc1 = nn.Linear(10*10*128, 512) \n",
    "        self.fc2 = nn.Linear(512, 256)\n",
    "        self.fc3 = nn.Linear(256, num_classes)\n",
    "\n",
    "    def forward(self, x): #el input de cada uno es el input de la conv, por el tamaño de la imagen, y el output lo mismo. El tamaño de la imagen se reduce en kernel-stride\n",
    "        x = F.relu(self.bn1(self.conv1(x)))\n",
    "        x = F.relu(self.bn2(self.conv2(x)))\n",
    "        x = F.relu(self.bn3(self.conv3(x)))\n",
    "        x = F.relu(self.bn4(self.conv4(x)))\n",
    "    \n",
    "        x = x.view(x.size(0), -1)\n",
    "    \n",
    "        x = F.relu(self.fc1(x))\n",
    "        x = F.relu(self.fc2(x))\n",
    "        return self.fc3(x)\n",
    "\n",
    "    def predict_image(self, image_path):\n",
    "        image = transform(Image.open(image_path)).unsqueeze(0)\n",
    "\n",
    "        with torch.no_grad():\n",
    "            output = self(image)\n",
    "\n",
    "        probabilities = torch.softmax(output, dim=1)[0]\n",
    "        predicted_label = torch.argmax(probabilities).item()\n",
    "\n",
    "        class_names = train_data.classes\n",
    "        predicted_class = class_names[predicted_label]\n",
    "\n",
    "        print(f'Predicted Class: {predicted_class}')\n",
    "        for i, prob in enumerate(probabilities):\n",
    "            print(f'{class_names[i]}: {prob:.4f}')\n",
    "\n",
    "model = CNN(num_classes=len(train_data.classes))"
   ]
  },
  {
   "cell_type": "code",
   "execution_count": 10,
   "id": "e21da92f-18a9-4310-b7da-c701ca62d299",
   "metadata": {},
   "outputs": [],
   "source": [
    "learning_rate = 0.008\n",
    "criterion = nn.CrossEntropyLoss()\n",
    "optimizer = optim.Adam(model.parameters(), lr=learning_rate)"
   ]
  },
  {
   "cell_type": "code",
   "execution_count": 11,
   "id": "b18aff50-6563-4736-889b-5ead759f9535",
   "metadata": {},
   "outputs": [
    {
     "name": "stdout",
     "output_type": "stream",
     "text": [
      "Epoch 1, Training Loss: 1.3647247320129758\n",
      "Epoch 2, Training Loss: 1.266402945064363\n",
      "Epoch 3, Training Loss: 1.226705729393732\n",
      "Epoch 4, Training Loss: 1.1335751840046473\n",
      "Epoch 5, Training Loss: 1.0688737818173\n",
      "Epoch 6, Training Loss: 0.9760117950893584\n",
      "Epoch 7, Training Loss: 0.8829589937414442\n",
      "Epoch 8, Training Loss: 0.8004206203279041\n",
      "Epoch 9, Training Loss: 0.7383607225758689\n",
      "Epoch 10, Training Loss: 0.7135690655027117\n",
      "Finished Training\n"
     ]
    }
   ],
   "source": [
    "# Entrenamiento del modelo\n",
    "epochs = 10\n",
    "for epoch in range(epochs):\n",
    "    model.train()\n",
    "    running_loss = 0.0\n",
    "    for inputs, labels in train_loader:\n",
    "        optimizer.zero_grad()\n",
    "        outputs = model(inputs)\n",
    "        loss = criterion(outputs, labels)\n",
    "        loss.backward()\n",
    "        optimizer.step()\n",
    "        running_loss += loss.item()\n",
    "    print(f\"Epoch {epoch+1}, Training Loss: {running_loss/len(train_loader)}\")\n",
    "\n",
    "print('Finished Training')"
   ]
  },
  {
   "cell_type": "code",
   "execution_count": 6,
   "id": "5c9041cb-b2c8-4d1f-a0d5-11fdbeb0c450",
   "metadata": {},
   "outputs": [
    {
     "name": "stdout",
     "output_type": "stream",
     "text": [
      "Accuracy on test set: 43.17343173431734%\n"
     ]
    }
   ],
   "source": [
    "# Evaluación del modelo en el conjunto de prueba\n",
    "model.eval()\n",
    "correct = 0\n",
    "total = 0\n",
    "with torch.no_grad():\n",
    "    for inputs, labels in test_loader:\n",
    "        outputs = model(inputs)\n",
    "        _, predicted = torch.max(outputs.data, 1)\n",
    "        total += labels.size(0)\n",
    "        correct += (predicted == labels).sum().item()\n",
    "print(f\"Accuracy on test set: {100 * correct / total}%\")"
   ]
  },
  {
   "cell_type": "code",
   "execution_count": 7,
   "id": "096c1dfb-c034-40ba-a801-d145f770cc14",
   "metadata": {},
   "outputs": [
    {
     "name": "stdout",
     "output_type": "stream",
     "text": [
      "Predicted Class: Audi\n",
      "Audi: 0.4317\n",
      "Hyundai Creta: 0.0296\n",
      "Mahindra Scorpio: 0.0272\n",
      "Rolls Royce: 0.1352\n",
      "Swift: 0.0617\n",
      "Tata Safari: 0.2850\n",
      "Toyota Innova: 0.0296\n",
      "Predicted Class: Toyota Innova\n",
      "Audi: 0.1883\n",
      "Hyundai Creta: 0.1236\n",
      "Mahindra Scorpio: 0.1363\n",
      "Rolls Royce: 0.1021\n",
      "Swift: 0.1089\n",
      "Tata Safari: 0.0836\n",
      "Toyota Innova: 0.2573\n",
      "Predicted Class: Audi\n",
      "Audi: 0.4677\n",
      "Hyundai Creta: 0.0176\n",
      "Mahindra Scorpio: 0.0148\n",
      "Rolls Royce: 0.1254\n",
      "Swift: 0.0458\n",
      "Tata Safari: 0.3110\n",
      "Toyota Innova: 0.0177\n",
      "Predicted Class: Audi\n",
      "Audi: 0.5129\n",
      "Hyundai Creta: 0.0059\n",
      "Mahindra Scorpio: 0.0042\n",
      "Rolls Royce: 0.1011\n",
      "Swift: 0.0239\n",
      "Tata Safari: 0.3461\n",
      "Toyota Innova: 0.0060\n"
     ]
    }
   ],
   "source": [
    "# Ejemplo de predicción de una imagen\n",
    "image_path = \"./CarsDataset/PruebaRollsRoyce.jpg\"\n",
    "model.predict_image(image_path)\n",
    "image_path = \"./CarsDataset/PruebaMahindraScorpio.jpg\"\n",
    "model.predict_image(image_path)\n",
    "image_path = \"./CarsDataset/PruebaMahindraScorpio2.png\"\n",
    "model.predict_image(image_path)\n",
    "image_path = \"./CarsDataset/Audi.jpg\"\n",
    "model.predict_image(image_path)"
   ]
  },
  {
   "cell_type": "code",
   "execution_count": null,
   "id": "dca1c60f-4fb7-4bed-b6cc-d3280370b269",
   "metadata": {},
   "outputs": [],
   "source": []
  }
 ],
 "metadata": {
  "kernelspec": {
   "display_name": "Python 3 (ipykernel)",
   "language": "python",
   "name": "python3"
  },
  "language_info": {
   "codemirror_mode": {
    "name": "ipython",
    "version": 3
   },
   "file_extension": ".py",
   "mimetype": "text/x-python",
   "name": "python",
   "nbconvert_exporter": "python",
   "pygments_lexer": "ipython3",
   "version": "3.10.13"
  }
 },
 "nbformat": 4,
 "nbformat_minor": 5
}
